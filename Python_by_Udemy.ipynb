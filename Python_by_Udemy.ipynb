{
  "nbformat": 4,
  "nbformat_minor": 0,
  "metadata": {
    "colab": {
      "provenance": [],
      "gpuType": "T4",
      "authorship_tag": "ABX9TyNq475b1Q79/qz0cXe69HBU",
      "include_colab_link": true
    },
    "kernelspec": {
      "name": "python3",
      "display_name": "Python 3"
    },
    "language_info": {
      "name": "python"
    },
    "accelerator": "GPU"
  },
  "cells": [
    {
      "cell_type": "markdown",
      "metadata": {
        "id": "view-in-github",
        "colab_type": "text"
      },
      "source": [
        "<a href=\"https://colab.research.google.com/github/vippium/Python-and-DSA---Udemy/blob/main/Python_by_Udemy.ipynb\" target=\"_parent\"><img src=\"https://colab.research.google.com/assets/colab-badge.svg\" alt=\"Open In Colab\"/></a>"
      ]
    },
    {
      "cell_type": "markdown",
      "source": [
        "# **Basics of Python**"
      ],
      "metadata": {
        "id": "H16h7izS71z6"
      }
    },
    {
      "cell_type": "code",
      "execution_count": null,
      "metadata": {
        "colab": {
          "base_uri": "https://localhost:8080/"
        },
        "id": "AM7PPV8QSu1d",
        "outputId": "d368e567-4f98-456f-db54-53bce943d888"
      },
      "outputs": [
        {
          "output_type": "stream",
          "name": "stdout",
          "text": [
            "Vipin Prajapat\n"
          ]
        }
      ],
      "source": [
        "print(\"Vipin Prajapat\")"
      ]
    },
    {
      "cell_type": "code",
      "source": [
        "44 + 1223"
      ],
      "metadata": {
        "colab": {
          "base_uri": "https://localhost:8080/"
        },
        "id": "Y6_FZAvtSDc8",
        "outputId": "efe14f28-3e0c-4076-cada-f7a44f32ebc3"
      },
      "execution_count": null,
      "outputs": [
        {
          "output_type": "execute_result",
          "data": {
            "text/plain": [
              "1267"
            ]
          },
          "metadata": {},
          "execution_count": 7
        }
      ]
    },
    {
      "cell_type": "markdown",
      "source": [
        "1. Python is **case - sensitive**\n",
        "2. Python uses **Indentation** to define a block of code. Consistent use of space and tab is required."
      ],
      "metadata": {
        "id": "n1iWY-2Vx4_-"
      }
    },
    {
      "cell_type": "markdown",
      "source": [
        "Comments are used to provide information about the code. There are basically twp types of comments:\n",
        "\n",
        "1. Single-line Comments.\n",
        "2. Multi-Line Comments."
      ],
      "metadata": {
        "id": "VdQDIHNFzFHE"
      }
    },
    {
      "cell_type": "code",
      "source": [
        "## This is an example of single-line comments.\n",
        "\n",
        "\"\"\"\n",
        "This is an example\n",
        "of multi-line comments.\n",
        "\"\"\""
      ],
      "metadata": {
        "colab": {
          "base_uri": "https://localhost:8080/",
          "height": 36
        },
        "id": "cf0e75HCxeKL",
        "outputId": "6a51a843-73c3-42b9-cab3-4547f9c61c0e"
      },
      "execution_count": null,
      "outputs": [
        {
          "output_type": "execute_result",
          "data": {
            "text/plain": [
              "'\\nThis is an example \\nof multi-line comments. \\n'"
            ],
            "application/vnd.google.colaboratory.intrinsic+json": {
              "type": "string"
            }
          },
          "metadata": {},
          "execution_count": 5
        }
      ]
    },
    {
      "cell_type": "code",
      "source": [
        "## Line Continuation\n",
        "## It uses a backslash (\\) to continue any statement to the next line.\n",
        "\n",
        "add = 10 + 20 + \\\n",
        "      30 + 40 + \\\n",
        "      50\n",
        "print(add)"
      ],
      "metadata": {
        "colab": {
          "base_uri": "https://localhost:8080/"
        },
        "id": "Yy2YaAsPzjmD",
        "outputId": "80c1f4c6-ffdd-475b-edf2-29b24aaae371"
      },
      "execution_count": null,
      "outputs": [
        {
          "output_type": "stream",
          "name": "stdout",
          "text": [
            "150\n"
          ]
        }
      ]
    },
    {
      "cell_type": "code",
      "source": [
        "## Multiple Statements on a Single Line\n",
        "\n",
        "x = 4;\n",
        "y = 5;\n",
        "z = x * y\n",
        "\n",
        "print(z)"
      ],
      "metadata": {
        "colab": {
          "base_uri": "https://localhost:8080/"
        },
        "id": "uIsSvWzj0KaI",
        "outputId": "4fcfb289-68fb-48ac-80c7-99c9ce735a40"
      },
      "execution_count": null,
      "outputs": [
        {
          "output_type": "stream",
          "name": "stdout",
          "text": [
            "20\n"
          ]
        }
      ]
    },
    {
      "cell_type": "code",
      "source": [
        "## Understanding Semnatics in Python\n",
        "\n",
        "## In Python, we don't have to define variables. Complier is that much intelligent that it will automatically Intelligent.\n",
        "\n",
        "age = 32\n",
        "\n",
        "name = \"Vipin\"\n",
        "\n",
        "type(age)"
      ],
      "metadata": {
        "colab": {
          "base_uri": "https://localhost:8080/"
        },
        "id": "WauiFJvC1A3h",
        "outputId": "9224dc62-663e-4f7f-a328-d2b57d7dc6dd"
      },
      "execution_count": null,
      "outputs": [
        {
          "output_type": "execute_result",
          "data": {
            "text/plain": [
              "int"
            ]
          },
          "metadata": {},
          "execution_count": 13
        }
      ]
    },
    {
      "cell_type": "code",
      "source": [
        "type(name)"
      ],
      "metadata": {
        "colab": {
          "base_uri": "https://localhost:8080/"
        },
        "id": "ZZDUjKzL1y2u",
        "outputId": "c1991c7f-ad91-4af5-a53f-4494dff7ed4a"
      },
      "execution_count": null,
      "outputs": [
        {
          "output_type": "execute_result",
          "data": {
            "text/plain": [
              "str"
            ]
          },
          "metadata": {},
          "execution_count": 11
        }
      ]
    },
    {
      "cell_type": "code",
      "source": [
        "## Indentation Error\n",
        "\n",
        "age = 33\n",
        "\n",
        "if age > 32:\n",
        "print(age)\n",
        "\n",
        "## Correct Way\n",
        "\n",
        "if age > 32:\n",
        "    print(age)"
      ],
      "metadata": {
        "colab": {
          "base_uri": "https://localhost:8080/",
          "height": 111
        },
        "id": "DLeBR0u514gP",
        "outputId": "b5ed4f93-2b73-40c7-e131-50bad9da0e50"
      },
      "execution_count": null,
      "outputs": [
        {
          "output_type": "error",
          "ename": "IndentationError",
          "evalue": "expected an indented block after 'if' statement on line 5 (<ipython-input-18-462272cf493d>, line 6)",
          "traceback": [
            "\u001b[0;36m  File \u001b[0;32m\"<ipython-input-18-462272cf493d>\"\u001b[0;36m, line \u001b[0;32m6\u001b[0m\n\u001b[0;31m    print(age)\u001b[0m\n\u001b[0m    ^\u001b[0m\n\u001b[0;31mIndentationError\u001b[0m\u001b[0;31m:\u001b[0m expected an indented block after 'if' statement on line 5\n"
          ]
        }
      ]
    },
    {
      "cell_type": "code",
      "source": [
        "# Name Error\n",
        "\n",
        "a = b\n",
        "\n",
        "## Correct Way\n",
        "\n",
        "b = 20\n",
        "print(\"b =\", a+10)"
      ],
      "metadata": {
        "id": "1FjVLZ1Q4Qvl",
        "colab": {
          "base_uri": "https://localhost:8080/",
          "height": 222
        },
        "outputId": "4ed56c97-21a1-4ed2-f277-e82adf5331b7"
      },
      "execution_count": null,
      "outputs": [
        {
          "output_type": "error",
          "ename": "NameError",
          "evalue": "name 'b' is not defined",
          "traceback": [
            "\u001b[0;31m---------------------------------------------------------------------------\u001b[0m",
            "\u001b[0;31mNameError\u001b[0m                                 Traceback (most recent call last)",
            "\u001b[0;32m<ipython-input-3-40a78379a5bf>\u001b[0m in \u001b[0;36m<cell line: 0>\u001b[0;34m()\u001b[0m\n\u001b[1;32m      1\u001b[0m \u001b[0;31m# Name Error\u001b[0m\u001b[0;34m\u001b[0m\u001b[0;34m\u001b[0m\u001b[0m\n\u001b[1;32m      2\u001b[0m \u001b[0;34m\u001b[0m\u001b[0m\n\u001b[0;32m----> 3\u001b[0;31m \u001b[0ma\u001b[0m \u001b[0;34m=\u001b[0m \u001b[0mb\u001b[0m\u001b[0;34m\u001b[0m\u001b[0;34m\u001b[0m\u001b[0m\n\u001b[0m\u001b[1;32m      4\u001b[0m \u001b[0;34m\u001b[0m\u001b[0m\n\u001b[1;32m      5\u001b[0m \u001b[0;31m## Correct Way\u001b[0m\u001b[0;34m\u001b[0m\u001b[0;34m\u001b[0m\u001b[0m\n",
            "\u001b[0;31mNameError\u001b[0m: name 'b' is not defined"
          ]
        }
      ]
    },
    {
      "cell_type": "markdown",
      "source": [
        "# **Variables in Python**"
      ],
      "metadata": {
        "id": "Jqnd6bEl7-vg"
      }
    },
    {
      "cell_type": "markdown",
      "source": [
        "**Python** is dynamically typed language. It means that the type of variable is determined at runtime."
      ],
      "metadata": {
        "id": "EBvWtiwOEQan"
      }
    },
    {
      "cell_type": "code",
      "source": [
        "age = 24  # Integer (int)\n",
        "name = \"Vipin\"  # String type (str)\n",
        "height = 6.0  # Float (float)\n",
        "is_married = False #  Boolean (bool)\n",
        "\n",
        "print(type(age))"
      ],
      "metadata": {
        "id": "OfTvWtFk8JdO",
        "colab": {
          "base_uri": "https://localhost:8080/"
        },
        "outputId": "62935007-a8ae-411b-cfb0-85ab6def7769"
      },
      "execution_count": null,
      "outputs": [
        {
          "output_type": "stream",
          "name": "stdout",
          "text": [
            "<class 'int'>\n"
          ]
        }
      ]
    },
    {
      "cell_type": "markdown",
      "source": [
        "**Type Checking and Conversion (or Type Conversion)**"
      ],
      "metadata": {
        "id": "rywj2KpXEg8U"
      }
    },
    {
      "cell_type": "code",
      "source": [
        "# Type Checking\n",
        "\n",
        "print(type(age))\n",
        "print(type(name))\n",
        "print(type(height))\n",
        "print(type(is_married))"
      ],
      "metadata": {
        "colab": {
          "base_uri": "https://localhost:8080/"
        },
        "id": "44JpImOJDxTo",
        "outputId": "83559ce9-b4de-4e15-8253-be10d9458188"
      },
      "execution_count": null,
      "outputs": [
        {
          "output_type": "stream",
          "name": "stdout",
          "text": [
            "<class 'int'>\n",
            "<class 'str'>\n",
            "<class 'float'>\n",
            "<class 'bool'>\n"
          ]
        }
      ]
    },
    {
      "cell_type": "code",
      "source": [
        "# Type Conversion\n",
        "print(type(age))\n",
        "age_str = str(age)\n",
        "print(age_str)\n",
        "print(type(age_str))"
      ],
      "metadata": {
        "colab": {
          "base_uri": "https://localhost:8080/"
        },
        "id": "dfSBtqlLEtTi",
        "outputId": "ff9ff567-43be-42b2-c410-9816d2a4be1f"
      },
      "execution_count": null,
      "outputs": [
        {
          "output_type": "stream",
          "name": "stdout",
          "text": [
            "<class 'int'>\n",
            "24\n",
            "<class 'str'>\n"
          ]
        }
      ]
    },
    {
      "cell_type": "markdown",
      "source": [
        "**Dynamic Typing**\n",
        "\n",
        "Python allows the type of a variable to change as the program executes."
      ],
      "metadata": {
        "id": "YzE-hTRcGBA1"
      }
    },
    {
      "cell_type": "code",
      "source": [
        "var = 10 #int\n",
        "print(var, type(var))\n",
        "\n",
        "var = \"Decipher\" #string\n",
        "print(var, type(var))\n",
        "\n",
        "var = 9504 #float\n",
        "print(var, type(var))"
      ],
      "metadata": {
        "colab": {
          "base_uri": "https://localhost:8080/"
        },
        "id": "pTvO3WrxE9OY",
        "outputId": "475b45bf-d9f7-406c-9878-079be650fab1"
      },
      "execution_count": null,
      "outputs": [
        {
          "output_type": "stream",
          "name": "stdout",
          "text": [
            "10 <class 'int'>\n",
            "Decipher <class 'str'>\n",
            "9504 <class 'int'>\n"
          ]
        }
      ]
    },
    {
      "cell_type": "markdown",
      "source": [
        "**Take Input from User**"
      ],
      "metadata": {
        "id": "EIZCt8sNHDqF"
      }
    },
    {
      "cell_type": "code",
      "source": [
        "name = str(input(\"Enter your name: \"))\n",
        "\n",
        "print(\"\\nHello\", name)\n",
        "\n",
        "# Here, we used \\n to get an extra space after the input for more asthetic feel."
      ],
      "metadata": {
        "colab": {
          "base_uri": "https://localhost:8080/"
        },
        "id": "vE0yfbfpGats",
        "outputId": "fe5d9049-5dc1-486e-c824-dccd8c58a6bc"
      },
      "execution_count": null,
      "outputs": [
        {
          "output_type": "stream",
          "name": "stdout",
          "text": [
            "Enter your name: Vipin Prajapat\n",
            "\n",
            "Hello Vipin Prajapat\n"
          ]
        }
      ]
    },
    {
      "cell_type": "markdown",
      "source": [
        "`Q.1. - Write a python code to create a simple calculator.`"
      ],
      "metadata": {
        "id": "MrPGTXZSIV9I"
      }
    },
    {
      "cell_type": "code",
      "source": [
        "# Code for Simple Calculator\n",
        "\n",
        "x = int(input(\"Enter first number: \"))\n",
        "y = int(input(\"Enter second number: \"))\n",
        "\n",
        "sum = x + y\n",
        "difference = x - y\n",
        "multiply = x * y\n",
        "divide = x / y\n",
        "\n",
        "print(\"\\nSum of the numbers is:\", sum)\n",
        "print(\"Difference between the numbers:\", difference)\n",
        "print(\"Multipication of the numbers:\", multiply)\n",
        "print(\"Division of the numbers:\", divide)"
      ],
      "metadata": {
        "colab": {
          "base_uri": "https://localhost:8080/"
        },
        "id": "pMtz1OOgHXJ8",
        "outputId": "57d5f4ba-ae96-471d-b060-f15dd323e969"
      },
      "execution_count": null,
      "outputs": [
        {
          "output_type": "stream",
          "name": "stdout",
          "text": [
            "Enter first number: 32\n",
            "Enter second number: 3\n",
            "\n",
            "Sum of the numbers is: 35\n",
            "Difference between the numbers: 29\n",
            "Multipication of the numbers: 96\n",
            "Division of the numbers: 10.666666666666666\n"
          ]
        }
      ]
    },
    {
      "cell_type": "markdown",
      "source": [
        "# **Data Types in Python**"
      ],
      "metadata": {
        "id": "l1eZzKdRKHOv"
      }
    },
    {
      "cell_type": "markdown",
      "source": [
        "Data Types are the classification of data which tells the compiler or interpreter how the programmer intends to use the data."
      ],
      "metadata": {
        "id": "D_2BMrBoKb6D"
      }
    },
    {
      "cell_type": "code",
      "source": [
        "Name = \"Vipin\"\n",
        "Age  = 23\n",
        "Height = 5.11\n",
        "Is_Student = True\n",
        "\n",
        "print(type(Name))\n",
        "print(type(Age))\n",
        "print(type(Height))\n",
        "print(type(Is_Student))"
      ],
      "metadata": {
        "colab": {
          "base_uri": "https://localhost:8080/"
        },
        "id": "hQVWgvTjKKdj",
        "outputId": "5199fe1d-c7a6-47ce-fede-e347c9af0219"
      },
      "execution_count": null,
      "outputs": [
        {
          "output_type": "stream",
          "name": "stdout",
          "text": [
            "<class 'str'>\n",
            "<class 'int'>\n",
            "<class 'float'>\n",
            "<class 'bool'>\n"
          ]
        }
      ]
    },
    {
      "cell_type": "markdown",
      "source": [
        "**Common Errors in Data Types**\n",
        "\n",
        "1. **Type Error** : In Pyhon, we can't directly concatinate two different data types. We can only concatenate a str to str, an int to int, and further."
      ],
      "metadata": {
        "id": "AYuxFCJlMcvu"
      }
    },
    {
      "cell_type": "code",
      "source": [
        "numbers = \"One\" + 2"
      ],
      "metadata": {
        "colab": {
          "base_uri": "https://localhost:8080/",
          "height": 148
        },
        "id": "fPbYkfhbMQFM",
        "outputId": "55821cad-8091-43d6-9ced-2596210977cc"
      },
      "execution_count": null,
      "outputs": [
        {
          "output_type": "error",
          "ename": "TypeError",
          "evalue": "can only concatenate str (not \"int\") to str",
          "traceback": [
            "\u001b[0;31m---------------------------------------------------------------------------\u001b[0m",
            "\u001b[0;31mTypeError\u001b[0m                                 Traceback (most recent call last)",
            "\u001b[0;32m<ipython-input-23-3e88312b0f02>\u001b[0m in \u001b[0;36m<cell line: 0>\u001b[0;34m()\u001b[0m\n\u001b[0;32m----> 1\u001b[0;31m \u001b[0mnumbers\u001b[0m \u001b[0;34m=\u001b[0m \u001b[0;34m\"One\"\u001b[0m \u001b[0;34m+\u001b[0m \u001b[0;36m2\u001b[0m\u001b[0;34m\u001b[0m\u001b[0;34m\u001b[0m\u001b[0m\n\u001b[0m",
            "\u001b[0;31mTypeError\u001b[0m: can only concatenate str (not \"int\") to str"
          ]
        }
      ]
    },
    {
      "cell_type": "markdown",
      "source": [
        "But if we use or apply Type casting on any of the data type, then it will work and will concatenate."
      ],
      "metadata": {
        "id": "z8x7d7fCNxGF"
      }
    },
    {
      "cell_type": "code",
      "source": [
        "number  = \"One\" + str(2)\n",
        "print(number)"
      ],
      "metadata": {
        "colab": {
          "base_uri": "https://localhost:8080/"
        },
        "id": "_kJuqPQnNbG3",
        "outputId": "fa9ac131-78e2-4057-8486-804fd564f79e"
      },
      "execution_count": null,
      "outputs": [
        {
          "output_type": "stream",
          "name": "stdout",
          "text": [
            "One2\n"
          ]
        }
      ]
    },
    {
      "cell_type": "markdown",
      "source": [
        "# **Operators in Python**"
      ],
      "metadata": {
        "id": "_MTHLmsBgsXa"
      }
    },
    {
      "cell_type": "markdown",
      "source": [
        "There are many types of Operators in Python:\n",
        "\n",
        "**1.** **Arithmetic Operators.**"
      ],
      "metadata": {
        "id": "6LPHBKNcgj3q"
      }
    },
    {
      "cell_type": "code",
      "source": [
        "# Arithmetic Operators\n",
        "\n",
        "a = 4\n",
        "b = 3\n",
        "\n",
        "print(\"Addition:\", a + b)\n",
        "print(\"Subtraction:\", a - b)\n",
        "print(\"Multiplication:\", a * b)\n",
        "print(\"Division:\", a / b)\n",
        "print(\"Floor Division:\", a // b)\n",
        "print(\"Modulus:\", a % b)"
      ],
      "metadata": {
        "id": "VDSw9w-5OVuA",
        "colab": {
          "base_uri": "https://localhost:8080/"
        },
        "outputId": "52e4ead0-8f4e-4f45-867b-500a2f85aa9e"
      },
      "execution_count": null,
      "outputs": [
        {
          "output_type": "stream",
          "name": "stdout",
          "text": [
            "Addition: 7\n",
            "Subtraction: 1\n",
            "Multiplication: 12\n",
            "Division: 1.3333333333333333\n",
            "Floor Division: 1\n",
            "Modulus: 1\n"
          ]
        }
      ]
    },
    {
      "cell_type": "markdown",
      "source": [
        "**2. Comparison Operator:**"
      ],
      "metadata": {
        "id": "eQ62avZUhagu"
      }
    },
    {
      "cell_type": "code",
      "source": [
        "# Equals to Operator ( == )\n",
        "\n",
        "a = 44\n",
        "b = 44\n",
        "\n",
        "a == b\n"
      ],
      "metadata": {
        "colab": {
          "base_uri": "https://localhost:8080/"
        },
        "id": "JxCFtBiuhKYv",
        "outputId": "cfa1a07e-be78-43d4-9a02-04df1924d5ac"
      },
      "execution_count": null,
      "outputs": [
        {
          "output_type": "execute_result",
          "data": {
            "text/plain": [
              "True"
            ]
          },
          "metadata": {},
          "execution_count": 1
        }
      ]
    },
    {
      "cell_type": "code",
      "source": [
        "# Not Equals to Operator ( != )\n",
        "\n",
        "a != b"
      ],
      "metadata": {
        "colab": {
          "base_uri": "https://localhost:8080/"
        },
        "id": "dbY4HTAGh_mb",
        "outputId": "3e2d65b2-c62a-4c5d-ff55-bbfc62855429"
      },
      "execution_count": null,
      "outputs": [
        {
          "output_type": "execute_result",
          "data": {
            "text/plain": [
              "False"
            ]
          },
          "metadata": {},
          "execution_count": 4
        }
      ]
    },
    {
      "cell_type": "code",
      "source": [
        "# Let's change the value\n",
        "\n",
        "str1 = \"Vipin\"\n",
        "str2 = \"vipin\"\n",
        "\n",
        "str1 != str2"
      ],
      "metadata": {
        "colab": {
          "base_uri": "https://localhost:8080/"
        },
        "id": "v3uuN9D-iXsa",
        "outputId": "a8e60246-f2e2-45e2-ed04-7111cb1d97f4"
      },
      "execution_count": null,
      "outputs": [
        {
          "output_type": "execute_result",
          "data": {
            "text/plain": [
              "True"
            ]
          },
          "metadata": {},
          "execution_count": 5
        }
      ]
    },
    {
      "cell_type": "code",
      "source": [
        "# Greater Than Operator ( > )\n",
        "\n",
        "num1 = 43\n",
        "num2 = 11\n",
        "\n",
        "num1 > num2"
      ],
      "metadata": {
        "colab": {
          "base_uri": "https://localhost:8080/"
        },
        "id": "prPPqP-pitit",
        "outputId": "0e760b28-6119-4d64-b2fd-12a4e39ad6a7"
      },
      "execution_count": null,
      "outputs": [
        {
          "output_type": "execute_result",
          "data": {
            "text/plain": [
              "True"
            ]
          },
          "metadata": {},
          "execution_count": 6
        }
      ]
    },
    {
      "cell_type": "code",
      "source": [
        "# Less Than Operator ( > )\n",
        "\n",
        "num1 = 43\n",
        "num2 = 11\n",
        "\n",
        "num1 < num2"
      ],
      "metadata": {
        "colab": {
          "base_uri": "https://localhost:8080/"
        },
        "id": "c0IUgpA4i6a4",
        "outputId": "b31da303-e3fb-4660-92d7-231c1305d3cb"
      },
      "execution_count": null,
      "outputs": [
        {
          "output_type": "execute_result",
          "data": {
            "text/plain": [
              "False"
            ]
          },
          "metadata": {},
          "execution_count": 7
        }
      ]
    },
    {
      "cell_type": "markdown",
      "source": [
        "**Logical Operators:**\n",
        "\n",
        "1. `AND Operation`: Whenver we have both the values True, then only the output is True, else it'll always be False.\n",
        "2. `OR Operation`: Whenver we have both the values or only 1 value is True, then we get True, else False.\n",
        "3. `NOT Operation`: It is nothing but only the inverse of any Boolean value or variable."
      ],
      "metadata": {
        "id": "MLcK5ynWjfu_"
      }
    },
    {
      "cell_type": "code",
      "source": [
        "# AND Operation:\n",
        "\n",
        "X = True\n",
        "Y = False\n",
        "\n",
        "print(X and Y)"
      ],
      "metadata": {
        "colab": {
          "base_uri": "https://localhost:8080/"
        },
        "id": "kjMkbmmli-jA",
        "outputId": "b69cd699-925b-4610-bbbe-319103ac14e3"
      },
      "execution_count": null,
      "outputs": [
        {
          "output_type": "stream",
          "name": "stdout",
          "text": [
            "False\n"
          ]
        }
      ]
    },
    {
      "cell_type": "code",
      "source": [
        "# OR Operation:\n",
        "\n",
        "X = True\n",
        "Y = False\n",
        "\n",
        "print(X or Y)"
      ],
      "metadata": {
        "colab": {
          "base_uri": "https://localhost:8080/"
        },
        "id": "dP-28HxVjwor",
        "outputId": "ba6f8911-e9e0-4267-e72b-84dfd6e4d3cd"
      },
      "execution_count": null,
      "outputs": [
        {
          "output_type": "stream",
          "name": "stdout",
          "text": [
            "True\n"
          ]
        }
      ]
    },
    {
      "cell_type": "code",
      "source": [
        "# NOT Operation:\n",
        "\n",
        "X = True\n",
        "\n",
        "print(not X)"
      ],
      "metadata": {
        "colab": {
          "base_uri": "https://localhost:8080/"
        },
        "id": "XUuQUEZ_ke5_",
        "outputId": "3b53660f-580b-467d-a1fd-b2457a04b87d"
      },
      "execution_count": null,
      "outputs": [
        {
          "output_type": "stream",
          "name": "stdout",
          "text": [
            "False\n"
          ]
        }
      ]
    },
    {
      "cell_type": "markdown",
      "source": [
        "# **Conditional Statement (IF, ELSE, ELIF)**"
      ],
      "metadata": {
        "id": "aeiL8OSalzYc"
      }
    },
    {
      "cell_type": "code",
      "source": [
        "## IF Statement\n",
        "\n",
        "age = 17\n",
        "\n",
        "if age >= 18:\n",
        "    print(\"You are eligible to vote.\")\n",
        "if age < 18:\n",
        "    print(\"You are not eligible to vote.\")"
      ],
      "metadata": {
        "colab": {
          "base_uri": "https://localhost:8080/"
        },
        "id": "Grs6BibcmDHY",
        "outputId": "96a37381-bfe4-4084-db6c-253454c9f951"
      },
      "execution_count": null,
      "outputs": [
        {
          "output_type": "stream",
          "name": "stdout",
          "text": [
            "You are not eligible to vote.\n"
          ]
        }
      ]
    },
    {
      "cell_type": "code",
      "source": [
        "## IF-ELSE Statement\n",
        "\n",
        "age = 17\n",
        "\n",
        "if age >= 18:\n",
        "    print(\"You are eligible to vote.\")\n",
        "else:\n",
        "    print(\"You are a minor.\")"
      ],
      "metadata": {
        "colab": {
          "base_uri": "https://localhost:8080/"
        },
        "id": "8UXCDttwmG1L",
        "outputId": "6c388760-8ab4-481a-db12-206596938bc0"
      },
      "execution_count": null,
      "outputs": [
        {
          "output_type": "stream",
          "name": "stdout",
          "text": [
            "You are a minor.\n"
          ]
        }
      ]
    },
    {
      "cell_type": "code",
      "source": [
        "## IF-ELIF-ELSE Statement\n",
        "\n",
        "age = int(input(\"Enter your age: \"))\n",
        "\n",
        "if age >= 18:\n",
        "    print(\"You are an adult.\")\n",
        "elif age < 18 and age >= 13:\n",
        "    print(\"You are a teenager.\")\n",
        "else:\n",
        "    print(\"You are a ahild.\")"
      ],
      "metadata": {
        "id": "HighidrrnYWf",
        "colab": {
          "base_uri": "https://localhost:8080/"
        },
        "outputId": "1ce800e6-5df8-4757-fe27-086a420d1b83"
      },
      "execution_count": null,
      "outputs": [
        {
          "output_type": "stream",
          "name": "stdout",
          "text": [
            "Enter your age: 25\n",
            "You are an adult.\n"
          ]
        }
      ]
    },
    {
      "cell_type": "markdown",
      "source": [
        "## **Nested Conditional Statements**"
      ],
      "metadata": {
        "id": "4DPLlA0BjEjY"
      }
    },
    {
      "cell_type": "code",
      "source": [],
      "metadata": {
        "id": "mU5ysKoPixvc"
      },
      "execution_count": null,
      "outputs": []
    },
    {
      "cell_type": "code",
      "source": [],
      "metadata": {
        "id": "KKuu7jHjmEqx"
      },
      "execution_count": null,
      "outputs": []
    },
    {
      "cell_type": "markdown",
      "source": [
        "## **Introduction to Loops**"
      ],
      "metadata": {
        "id": "vwS-rxedmGWh"
      }
    },
    {
      "cell_type": "markdown",
      "source": [
        "Loops or Looping means repeating something over and over until a particular condition is satisfied.\n",
        "\n",
        "There are different types of Loops are:\n",
        "1. **For Loop** : For Loop is a loop which is used to iterate over a sequence of a number."
      ],
      "metadata": {
        "id": "58pmQOVvkse-"
      }
    },
    {
      "cell_type": "code",
      "source": [
        "for i in range(6):\n",
        "  print(i)"
      ],
      "metadata": {
        "id": "LDZoA7LqmOJJ",
        "colab": {
          "base_uri": "https://localhost:8080/"
        },
        "outputId": "ec22cc5a-3e63-4104-900e-a9598a7a7729"
      },
      "execution_count": null,
      "outputs": [
        {
          "output_type": "stream",
          "name": "stdout",
          "text": [
            "0\n",
            "1\n",
            "2\n",
            "3\n",
            "4\n",
            "5\n"
          ]
        }
      ]
    },
    {
      "cell_type": "markdown",
      "source": [
        "`For Loop using Range with 3rd parameter:`"
      ],
      "metadata": {
        "id": "4_v5vXzym_6E"
      }
    },
    {
      "cell_type": "code",
      "source": [
        "for i in range(1,11,2):\n",
        "  print(i)"
      ],
      "metadata": {
        "colab": {
          "base_uri": "https://localhost:8080/"
        },
        "id": "lj3YQ19alyr4",
        "outputId": "45b3c73f-14c1-490e-a677-cbba9a094d57"
      },
      "execution_count": null,
      "outputs": [
        {
          "output_type": "stream",
          "name": "stdout",
          "text": [
            "1\n",
            "3\n",
            "5\n",
            "7\n",
            "9\n"
          ]
        }
      ]
    },
    {
      "cell_type": "code",
      "source": [
        "for i in range(10,0,-2):\n",
        "  print(i)"
      ],
      "metadata": {
        "colab": {
          "base_uri": "https://localhost:8080/"
        },
        "id": "Ys5WGT_tnK-Q",
        "outputId": "f40feab1-2078-45c5-9d94-95385bbe014a"
      },
      "execution_count": null,
      "outputs": [
        {
          "output_type": "stream",
          "name": "stdout",
          "text": [
            "10\n",
            "8\n",
            "6\n",
            "4\n",
            "2\n"
          ]
        }
      ]
    },
    {
      "cell_type": "markdown",
      "source": [
        "`For loop using Strings:`"
      ],
      "metadata": {
        "id": "6SZvb9uqnqQn"
      }
    },
    {
      "cell_type": "code",
      "source": [
        "str = \"Vipin\"\n",
        "\n",
        "for i in str:\n",
        "  print(i)"
      ],
      "metadata": {
        "colab": {
          "base_uri": "https://localhost:8080/"
        },
        "id": "gU2sI7ninjZ6",
        "outputId": "3d715917-ecb5-4688-fa34-5455a3f5ad49"
      },
      "execution_count": null,
      "outputs": [
        {
          "output_type": "stream",
          "name": "stdout",
          "text": [
            "V\n",
            "i\n",
            "p\n",
            "i\n",
            "n\n"
          ]
        }
      ]
    },
    {
      "cell_type": "markdown",
      "source": [
        "2.  **While Loop :** The while loop continues to execute as long as the condition is satisfied."
      ],
      "metadata": {
        "id": "JhqvthR6oLGv"
      }
    },
    {
      "cell_type": "code",
      "source": [],
      "metadata": {
        "id": "3YGPk1vgn4k5"
      },
      "execution_count": null,
      "outputs": []
    },
    {
      "cell_type": "markdown",
      "source": [
        "# **What are Lists ?**\n",
        "\n",
        "*   Lists are nothing but a mutable & ordered collection of items.\n",
        "*   They can contain items of different data types.\n",
        "\n"
      ],
      "metadata": {
        "id": "XqgdP7FTwzSR"
      }
    },
    {
      "cell_type": "code",
      "source": [
        "lst = []\n",
        "print(type(lst))"
      ],
      "metadata": {
        "colab": {
          "base_uri": "https://localhost:8080/"
        },
        "id": "diS7J2_dw6m7",
        "outputId": "5c87a9e8-1829-4058-bda5-f0fcd3c105b6"
      },
      "execution_count": 4,
      "outputs": [
        {
          "output_type": "stream",
          "name": "stdout",
          "text": [
            "<class 'list'>\n"
          ]
        }
      ]
    },
    {
      "cell_type": "code",
      "source": [],
      "metadata": {
        "id": "eQtMqniIykj1"
      },
      "execution_count": null,
      "outputs": []
    }
  ]
}